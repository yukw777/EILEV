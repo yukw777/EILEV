{
 "cells": [
  {
   "cell_type": "markdown",
   "metadata": {},
   "source": [
    "# Skewed Distributions Figures"
   ]
  },
  {
   "cell_type": "code",
   "execution_count": null,
   "metadata": {},
   "outputs": [],
   "source": [
    "import csv\n",
    "from collections import Counter\n",
    "\n",
    "import matplotlib.pyplot as plt\n",
    "import seaborn as sns\n",
    "\n",
    "%matplotlib inline\n",
    "\n",
    "def count_actions(*files):\n",
    "    counter = Counter()\n",
    "    for file in files:\n",
    "        with open(file, newline=\"\") as f:\n",
    "            csvreader = csv.DictReader(f)\n",
    "            for item in csvreader:\n",
    "                counter[(item[\"structured_verb\"], item[\"structured_noun\"])] += 1\n",
    "    return counter\n",
    "\n",
    "\n",
    "def truncate_action_label(action):\n",
    "    verb, noun = action\n",
    "    return f\"{verb.split('_', 1)[0]}\\n{noun.split('_', 1)[0]}\"\n",
    "\n",
    "\n",
    "def get_bar_labels_values(counter):\n",
    "    return zip(\n",
    "        *[\n",
    "            (truncate_action_label(action), count)\n",
    "            for action, count in counter.most_common()\n",
    "        ]\n",
    "    )\n",
    "\n",
    "\n",
    "def draw_freq_graph(actions_counter, cutoffs, fig_name):\n",
    "    sns.set_theme(style=\"darkgrid\")\n",
    "    plt.figure(figsize=(30, 11))\n",
    "    labels, counts = get_bar_labels_values(actions_counter)\n",
    "\n",
    "    sns.lineplot(x=range(len(labels)), y=counts, linewidth=8)\n",
    "\n",
    "    plt.yscale(\"log\")\n",
    "\n",
    "    # Fill the area under the line\n",
    "    plt.fill_between(range(len(labels)), counts, alpha=0.3)\n",
    "\n",
    "    # mark the cut-off for common actions\n",
    "    for cutoff, label, color in cutoffs:\n",
    "        plt.axvline(\n",
    "            x=cutoff - 0.5, color=color, linestyle=\"--\", linewidth=8, label=label\n",
    "        )\n",
    "    plt.legend(prop=dict(weight=\"bold\", size=72))\n",
    "\n",
    "    plt.xlim(0, len(labels))\n",
    "    xticks, _ = plt.xticks()\n",
    "    plt.tick_params(axis=\"both\", which=\"major\", labelsize=36)\n",
    "    plt.xticks(xticks[:-1], [labels[int(xtick)] for xtick in xticks[:-1]])\n",
    "    plt.xlabel(\"Action (Verb, Noun)\", fontsize=42, fontweight=\"bold\", labelpad=20)\n",
    "    plt.ylabel(\"Frequency\", fontsize=42, fontweight=\"bold\")\n",
    "\n",
    "    plt.tight_layout()\n",
    "    # bbox_inches=\"tight\" ensures that all the visible content\n",
    "    # is saved into the pdf file.\n",
    "    plt.savefig(fig_name, bbox_inches=\"tight\")\n",
    "    plt.show()"
   ]
  },
  {
   "cell_type": "code",
   "execution_count": null,
   "metadata": {},
   "outputs": [],
   "source": [
    "actions_counter = count_actions(\n",
    "    \"../../ego4d/splits/held_out_verb_noun-0.8/train.csv\",\n",
    "    \"../../ego4d/splits/held_out_verb_noun-0.8/val.csv\",\n",
    ")"
   ]
  },
  {
   "cell_type": "code",
   "execution_count": null,
   "metadata": {},
   "outputs": [],
   "source": [
    "draw_freq_graph(\n",
    "    actions_counter,\n",
    "    (\n",
    "        (len(actions_counter) - 2, \"EILeV\", \"green\"),\n",
    "        (100, \"Top 100 (Ablation)\", \"red\"),\n",
    "        (500, \"Top 500 (Ablation)\", \"blue\"),\n",
    "    ),\n",
    "    \"skewed-dist.pdf\",\n",
    ")"
   ]
  }
 ],
 "metadata": {
  "kernelspec": {
   "display_name": "eilev-NpCwgrX9-py3.10",
   "language": "python",
   "name": "python3"
  },
  "language_info": {
   "codemirror_mode": {
    "name": "ipython",
    "version": 3
   },
   "file_extension": ".py",
   "mimetype": "text/x-python",
   "name": "python",
   "nbconvert_exporter": "python",
   "pygments_lexer": "ipython3",
   "version": "3.10.14"
  }
 },
 "nbformat": 4,
 "nbformat_minor": 2
}
